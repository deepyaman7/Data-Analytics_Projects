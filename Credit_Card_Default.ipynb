{
  "nbformat": 4,
  "nbformat_minor": 0,
  "metadata": {
    "colab": {
      "name": "Credit_Card_Default.ipynb",
      "provenance": [],
      "authorship_tag": "ABX9TyOc34KmcepicWoQ88ncb+JM",
      "include_colab_link": true
    },
    "kernelspec": {
      "name": "python3",
      "display_name": "Python 3"
    },
    "language_info": {
      "name": "python"
    }
  },
  "cells": [
    {
      "cell_type": "markdown",
      "metadata": {
        "id": "view-in-github",
        "colab_type": "text"
      },
      "source": [
        "<a href=\"https://colab.research.google.com/github/deepyaman7/Data-Analytics_Projects/blob/main/Credit_Card_Default.ipynb\" target=\"_parent\"><img src=\"https://colab.research.google.com/assets/colab-badge.svg\" alt=\"Open In Colab\"/></a>"
      ]
    },
    {
      "cell_type": "markdown",
      "metadata": {
        "id": "x-t_6HjGgc-v"
      },
      "source": [
        "This objective of the project is to develope a predictive model for credit card default payment. The model should be able to predict defaulty when provided with input data. The model is design to provide the accurate prediction.\n"
      ]
    },
    {
      "cell_type": "markdown",
      "metadata": {
        "id": "5wY5iUcMhOuK"
      },
      "source": [
        "Ml problem - "
      ]
    },
    {
      "cell_type": "code",
      "metadata": {
        "colab": {
          "base_uri": "https://localhost:8080/",
          "height": 261
        },
        "id": "yGzgln5Ai78e",
        "outputId": "e0823b86-6488-4f2a-d854-5d1276058dfd"
      },
      "source": [
        "import pandas as pd\n",
        "cred_data_file = '/content/train.csv'\n",
        "cred_data = pd.read_csv(cred_data_file)\n",
        "cred_data.head(5)"
      ],
      "execution_count": 1,
      "outputs": [
        {
          "output_type": "execute_result",
          "data": {
            "text/html": [
              "<div>\n",
              "<style scoped>\n",
              "    .dataframe tbody tr th:only-of-type {\n",
              "        vertical-align: middle;\n",
              "    }\n",
              "\n",
              "    .dataframe tbody tr th {\n",
              "        vertical-align: top;\n",
              "    }\n",
              "\n",
              "    .dataframe thead th {\n",
              "        text-align: right;\n",
              "    }\n",
              "</style>\n",
              "<table border=\"1\" class=\"dataframe\">\n",
              "  <thead>\n",
              "    <tr style=\"text-align: right;\">\n",
              "      <th></th>\n",
              "      <th>customer_id</th>\n",
              "      <th>name</th>\n",
              "      <th>age</th>\n",
              "      <th>gender</th>\n",
              "      <th>owns_car</th>\n",
              "      <th>owns_house</th>\n",
              "      <th>no_of_children</th>\n",
              "      <th>net_yearly_income</th>\n",
              "      <th>no_of_days_employed</th>\n",
              "      <th>occupation_type</th>\n",
              "      <th>total_family_members</th>\n",
              "      <th>migrant_worker</th>\n",
              "      <th>yearly_debt_payments</th>\n",
              "      <th>credit_limit</th>\n",
              "      <th>credit_limit_used(%)</th>\n",
              "      <th>credit_score</th>\n",
              "      <th>prev_defaults</th>\n",
              "      <th>default_in_last_6months</th>\n",
              "      <th>credit_card_default</th>\n",
              "    </tr>\n",
              "  </thead>\n",
              "  <tbody>\n",
              "    <tr>\n",
              "      <th>0</th>\n",
              "      <td>CST_115179</td>\n",
              "      <td>ita Bose</td>\n",
              "      <td>46</td>\n",
              "      <td>F</td>\n",
              "      <td>N</td>\n",
              "      <td>Y</td>\n",
              "      <td>0.0</td>\n",
              "      <td>107934.04</td>\n",
              "      <td>612.0</td>\n",
              "      <td>Unknown</td>\n",
              "      <td>1.0</td>\n",
              "      <td>1.0</td>\n",
              "      <td>33070.28</td>\n",
              "      <td>18690.93</td>\n",
              "      <td>73</td>\n",
              "      <td>544.0</td>\n",
              "      <td>2</td>\n",
              "      <td>1</td>\n",
              "      <td>1</td>\n",
              "    </tr>\n",
              "    <tr>\n",
              "      <th>1</th>\n",
              "      <td>CST_121920</td>\n",
              "      <td>Alper Jonathan</td>\n",
              "      <td>29</td>\n",
              "      <td>M</td>\n",
              "      <td>N</td>\n",
              "      <td>Y</td>\n",
              "      <td>0.0</td>\n",
              "      <td>109862.62</td>\n",
              "      <td>2771.0</td>\n",
              "      <td>Laborers</td>\n",
              "      <td>2.0</td>\n",
              "      <td>0.0</td>\n",
              "      <td>15329.53</td>\n",
              "      <td>37745.19</td>\n",
              "      <td>52</td>\n",
              "      <td>857.0</td>\n",
              "      <td>0</td>\n",
              "      <td>0</td>\n",
              "      <td>0</td>\n",
              "    </tr>\n",
              "    <tr>\n",
              "      <th>2</th>\n",
              "      <td>CST_109330</td>\n",
              "      <td>Umesh Desai</td>\n",
              "      <td>37</td>\n",
              "      <td>M</td>\n",
              "      <td>N</td>\n",
              "      <td>Y</td>\n",
              "      <td>0.0</td>\n",
              "      <td>230153.17</td>\n",
              "      <td>204.0</td>\n",
              "      <td>Laborers</td>\n",
              "      <td>2.0</td>\n",
              "      <td>0.0</td>\n",
              "      <td>48416.60</td>\n",
              "      <td>41598.36</td>\n",
              "      <td>43</td>\n",
              "      <td>650.0</td>\n",
              "      <td>0</td>\n",
              "      <td>0</td>\n",
              "      <td>0</td>\n",
              "    </tr>\n",
              "    <tr>\n",
              "      <th>3</th>\n",
              "      <td>CST_128288</td>\n",
              "      <td>Rie</td>\n",
              "      <td>39</td>\n",
              "      <td>F</td>\n",
              "      <td>N</td>\n",
              "      <td>Y</td>\n",
              "      <td>0.0</td>\n",
              "      <td>122325.82</td>\n",
              "      <td>11941.0</td>\n",
              "      <td>Core staff</td>\n",
              "      <td>2.0</td>\n",
              "      <td>0.0</td>\n",
              "      <td>22574.36</td>\n",
              "      <td>32627.76</td>\n",
              "      <td>20</td>\n",
              "      <td>754.0</td>\n",
              "      <td>0</td>\n",
              "      <td>0</td>\n",
              "      <td>0</td>\n",
              "    </tr>\n",
              "    <tr>\n",
              "      <th>4</th>\n",
              "      <td>CST_151355</td>\n",
              "      <td>McCool</td>\n",
              "      <td>46</td>\n",
              "      <td>M</td>\n",
              "      <td>Y</td>\n",
              "      <td>Y</td>\n",
              "      <td>0.0</td>\n",
              "      <td>387286.00</td>\n",
              "      <td>1459.0</td>\n",
              "      <td>Core staff</td>\n",
              "      <td>1.0</td>\n",
              "      <td>0.0</td>\n",
              "      <td>38282.95</td>\n",
              "      <td>52950.64</td>\n",
              "      <td>75</td>\n",
              "      <td>927.0</td>\n",
              "      <td>0</td>\n",
              "      <td>0</td>\n",
              "      <td>0</td>\n",
              "    </tr>\n",
              "  </tbody>\n",
              "</table>\n",
              "</div>"
            ],
            "text/plain": [
              "  customer_id            name  ...  default_in_last_6months credit_card_default\n",
              "0  CST_115179        ita Bose  ...                        1                   1\n",
              "1  CST_121920  Alper Jonathan  ...                        0                   0\n",
              "2  CST_109330     Umesh Desai  ...                        0                   0\n",
              "3  CST_128288             Rie  ...                        0                   0\n",
              "4  CST_151355          McCool  ...                        0                   0\n",
              "\n",
              "[5 rows x 19 columns]"
            ]
          },
          "metadata": {},
          "execution_count": 1
        }
      ]
    },
    {
      "cell_type": "code",
      "metadata": {
        "colab": {
          "base_uri": "https://localhost:8080/",
          "height": 320
        },
        "id": "QaL-RB-Xjtxv",
        "outputId": "ad2e4cf4-4455-43e1-a6ce-77a5bdb159c4"
      },
      "source": [
        "cred_data.describe()"
      ],
      "execution_count": 3,
      "outputs": [
        {
          "output_type": "execute_result",
          "data": {
            "text/html": [
              "<div>\n",
              "<style scoped>\n",
              "    .dataframe tbody tr th:only-of-type {\n",
              "        vertical-align: middle;\n",
              "    }\n",
              "\n",
              "    .dataframe tbody tr th {\n",
              "        vertical-align: top;\n",
              "    }\n",
              "\n",
              "    .dataframe thead th {\n",
              "        text-align: right;\n",
              "    }\n",
              "</style>\n",
              "<table border=\"1\" class=\"dataframe\">\n",
              "  <thead>\n",
              "    <tr style=\"text-align: right;\">\n",
              "      <th></th>\n",
              "      <th>age</th>\n",
              "      <th>no_of_children</th>\n",
              "      <th>net_yearly_income</th>\n",
              "      <th>no_of_days_employed</th>\n",
              "      <th>total_family_members</th>\n",
              "      <th>migrant_worker</th>\n",
              "      <th>yearly_debt_payments</th>\n",
              "      <th>credit_limit</th>\n",
              "      <th>credit_limit_used(%)</th>\n",
              "      <th>credit_score</th>\n",
              "      <th>prev_defaults</th>\n",
              "      <th>default_in_last_6months</th>\n",
              "      <th>credit_card_default</th>\n",
              "    </tr>\n",
              "  </thead>\n",
              "  <tbody>\n",
              "    <tr>\n",
              "      <th>count</th>\n",
              "      <td>45528.000000</td>\n",
              "      <td>44754.000000</td>\n",
              "      <td>4.552800e+04</td>\n",
              "      <td>45065.000000</td>\n",
              "      <td>45445.000000</td>\n",
              "      <td>45441.000000</td>\n",
              "      <td>45433.000000</td>\n",
              "      <td>4.552800e+04</td>\n",
              "      <td>45528.00000</td>\n",
              "      <td>45520.000000</td>\n",
              "      <td>45528.000000</td>\n",
              "      <td>45528.000000</td>\n",
              "      <td>45528.000000</td>\n",
              "    </tr>\n",
              "    <tr>\n",
              "      <th>mean</th>\n",
              "      <td>38.993411</td>\n",
              "      <td>0.420655</td>\n",
              "      <td>2.006556e+05</td>\n",
              "      <td>67609.289293</td>\n",
              "      <td>2.158081</td>\n",
              "      <td>0.179111</td>\n",
              "      <td>31796.965311</td>\n",
              "      <td>4.354842e+04</td>\n",
              "      <td>52.23502</td>\n",
              "      <td>782.791257</td>\n",
              "      <td>0.060710</td>\n",
              "      <td>0.050540</td>\n",
              "      <td>0.081203</td>\n",
              "    </tr>\n",
              "    <tr>\n",
              "      <th>std</th>\n",
              "      <td>9.543990</td>\n",
              "      <td>0.724097</td>\n",
              "      <td>6.690740e+05</td>\n",
              "      <td>139323.524434</td>\n",
              "      <td>0.911572</td>\n",
              "      <td>0.383450</td>\n",
              "      <td>17269.727234</td>\n",
              "      <td>1.487847e+05</td>\n",
              "      <td>29.37691</td>\n",
              "      <td>100.619746</td>\n",
              "      <td>0.264629</td>\n",
              "      <td>0.219059</td>\n",
              "      <td>0.273149</td>\n",
              "    </tr>\n",
              "    <tr>\n",
              "      <th>min</th>\n",
              "      <td>23.000000</td>\n",
              "      <td>0.000000</td>\n",
              "      <td>2.717061e+04</td>\n",
              "      <td>2.000000</td>\n",
              "      <td>1.000000</td>\n",
              "      <td>0.000000</td>\n",
              "      <td>2237.470000</td>\n",
              "      <td>4.003140e+03</td>\n",
              "      <td>0.00000</td>\n",
              "      <td>500.000000</td>\n",
              "      <td>0.000000</td>\n",
              "      <td>0.000000</td>\n",
              "      <td>0.000000</td>\n",
              "    </tr>\n",
              "    <tr>\n",
              "      <th>25%</th>\n",
              "      <td>31.000000</td>\n",
              "      <td>0.000000</td>\n",
              "      <td>1.263458e+05</td>\n",
              "      <td>936.000000</td>\n",
              "      <td>2.000000</td>\n",
              "      <td>0.000000</td>\n",
              "      <td>19231.140000</td>\n",
              "      <td>2.397381e+04</td>\n",
              "      <td>27.00000</td>\n",
              "      <td>704.000000</td>\n",
              "      <td>0.000000</td>\n",
              "      <td>0.000000</td>\n",
              "      <td>0.000000</td>\n",
              "    </tr>\n",
              "    <tr>\n",
              "      <th>50%</th>\n",
              "      <td>39.000000</td>\n",
              "      <td>0.000000</td>\n",
              "      <td>1.717149e+05</td>\n",
              "      <td>2224.000000</td>\n",
              "      <td>2.000000</td>\n",
              "      <td>0.000000</td>\n",
              "      <td>29081.650000</td>\n",
              "      <td>3.568804e+04</td>\n",
              "      <td>54.00000</td>\n",
              "      <td>786.000000</td>\n",
              "      <td>0.000000</td>\n",
              "      <td>0.000000</td>\n",
              "      <td>0.000000</td>\n",
              "    </tr>\n",
              "    <tr>\n",
              "      <th>75%</th>\n",
              "      <td>47.000000</td>\n",
              "      <td>1.000000</td>\n",
              "      <td>2.406038e+05</td>\n",
              "      <td>5817.000000</td>\n",
              "      <td>3.000000</td>\n",
              "      <td>0.000000</td>\n",
              "      <td>40561.150000</td>\n",
              "      <td>5.343576e+04</td>\n",
              "      <td>78.00000</td>\n",
              "      <td>867.000000</td>\n",
              "      <td>0.000000</td>\n",
              "      <td>0.000000</td>\n",
              "      <td>0.000000</td>\n",
              "    </tr>\n",
              "    <tr>\n",
              "      <th>max</th>\n",
              "      <td>55.000000</td>\n",
              "      <td>9.000000</td>\n",
              "      <td>1.407590e+08</td>\n",
              "      <td>365252.000000</td>\n",
              "      <td>10.000000</td>\n",
              "      <td>1.000000</td>\n",
              "      <td>328112.860000</td>\n",
              "      <td>3.112997e+07</td>\n",
              "      <td>99.00000</td>\n",
              "      <td>949.000000</td>\n",
              "      <td>2.000000</td>\n",
              "      <td>1.000000</td>\n",
              "      <td>1.000000</td>\n",
              "    </tr>\n",
              "  </tbody>\n",
              "</table>\n",
              "</div>"
            ],
            "text/plain": [
              "                age  ...  credit_card_default\n",
              "count  45528.000000  ...         45528.000000\n",
              "mean      38.993411  ...             0.081203\n",
              "std        9.543990  ...             0.273149\n",
              "min       23.000000  ...             0.000000\n",
              "25%       31.000000  ...             0.000000\n",
              "50%       39.000000  ...             0.000000\n",
              "75%       47.000000  ...             0.000000\n",
              "max       55.000000  ...             1.000000\n",
              "\n",
              "[8 rows x 13 columns]"
            ]
          },
          "metadata": {},
          "execution_count": 3
        }
      ]
    },
    {
      "cell_type": "code",
      "metadata": {
        "id": "sz_gBVF-l6s0"
      },
      "source": [
        ""
      ],
      "execution_count": null,
      "outputs": []
    },
    {
      "cell_type": "code",
      "metadata": {
        "colab": {
          "base_uri": "https://localhost:8080/"
        },
        "id": "jjYCO-bukESB",
        "outputId": "d2b5b126-3d35-4fe0-e40b-d4b7ee3c7110"
      },
      "source": [
        "print(cred_data.isnull().sum())\n",
        "print(cred_data.shape)"
      ],
      "execution_count": 14,
      "outputs": [
        {
          "output_type": "stream",
          "name": "stdout",
          "text": [
            "customer_id                  0\n",
            "name                         0\n",
            "age                          0\n",
            "gender                       0\n",
            "owns_car                   547\n",
            "owns_house                   0\n",
            "no_of_children             774\n",
            "net_yearly_income            0\n",
            "no_of_days_employed        463\n",
            "occupation_type              0\n",
            "total_family_members        83\n",
            "migrant_worker              87\n",
            "yearly_debt_payments        95\n",
            "credit_limit                 0\n",
            "credit_limit_used(%)         0\n",
            "credit_score                 8\n",
            "prev_defaults                0\n",
            "default_in_last_6months      0\n",
            "credit_card_default          0\n",
            "dtype: int64\n",
            "(45528, 19)\n"
          ]
        }
      ]
    },
    {
      "cell_type": "code",
      "metadata": {
        "colab": {
          "base_uri": "https://localhost:8080/"
        },
        "id": "5sWkIwCYoI2_",
        "outputId": "35ceed44-fac0-4ec0-ef57-bd6eec5104a9"
      },
      "source": [
        "cred_data.dropna(inplace=True)\n",
        "print(cred_data.isnull().sum())\n",
        "print(cred_data.shape)"
      ],
      "execution_count": 15,
      "outputs": [
        {
          "output_type": "stream",
          "name": "stdout",
          "text": [
            "customer_id                0\n",
            "name                       0\n",
            "age                        0\n",
            "gender                     0\n",
            "owns_car                   0\n",
            "owns_house                 0\n",
            "no_of_children             0\n",
            "net_yearly_income          0\n",
            "no_of_days_employed        0\n",
            "occupation_type            0\n",
            "total_family_members       0\n",
            "migrant_worker             0\n",
            "yearly_debt_payments       0\n",
            "credit_limit               0\n",
            "credit_limit_used(%)       0\n",
            "credit_score               0\n",
            "prev_defaults              0\n",
            "default_in_last_6months    0\n",
            "credit_card_default        0\n",
            "dtype: int64\n",
            "(43509, 19)\n"
          ]
        }
      ]
    },
    {
      "cell_type": "code",
      "metadata": {
        "id": "-PBkCFb2qGJQ"
      },
      "source": [
        "import numpy as np\n",
        "import matplotlib.pyplot as plt\n",
        "import seaborn as sns\n",
        "%matplotlib inline\n"
      ],
      "execution_count": 16,
      "outputs": []
    },
    {
      "cell_type": "code",
      "metadata": {
        "colab": {
          "base_uri": "https://localhost:8080/",
          "height": 265
        },
        "id": "CPI1orAtsTYc",
        "outputId": "14e1eff0-08e1-4fa7-bb33-9231c3882621"
      },
      "source": [
        "cred_data.occupation_type.value_counts(normalize=True)\n",
        "cred_data.occupation_type.value_counts(normalize=True).plot.barh()\n",
        "plt.show()"
      ],
      "execution_count": 18,
      "outputs": [
        {
          "output_type": "display_data",
          "data": {
            "image/png": "[encoded data removed]",
            "text/plain": [
              "<Figure size 432x288 with 1 Axes>"
            ]
          },
          "metadata": {
            "needs_background": "light"
          }
        }
      ]
    },
    {
      "cell_type": "code",
      "metadata": {
        "colab": {
          "base_uri": "https://localhost:8080/",
          "height": 527
        },
        "id": "PCo0qjX8tEIL",
        "outputId": "30682494-e1fc-4011-8dc9-f5f0abd63255"
      },
      "source": [
        "plt.scatter(cred_data.age,cred_data.credit_card_default)\n",
        "plt.show()\n",
        "cred_data.plot.scatter(x=\"age\",y=\"credit_card_default\")\n",
        "plt.show()"
      ],
      "execution_count": 25,
      "outputs": [
        {
          "output_type": "display_data",
          "data": {
            "image/png": "[encoded data removed]",
            "text/plain": [
              "<Figure size 432x288 with 1 Axes>"
            ]
          },
          "metadata": {
            "needs_background": "light"
          }
        },
        {
          "output_type": "display_data",
          "data": {
            "image/png": "[encoded data removed]",
            "text/plain": [
              "<Figure size 432x288 with 1 Axes>"
            ]
          },
          "metadata": {
            "needs_background": "light"
          }
        }
      ]
    },
    {
      "cell_type": "code",
      "metadata": {
        "colab": {
          "base_uri": "https://localhost:8080/",
          "height": 270
        },
        "id": "BsZVuvgiuhmn",
        "outputId": "6e6d2c51-725a-489e-de2a-c0fd68ddd793"
      },
      "source": [
        "cred_data[['age','credit_card_default']].corr()\n",
        "sns.heatmap(cred_data[['age','credit_card_default']].corr(), annot=True, cmap = 'Reds')\n",
        "plt.show()"
      ],
      "execution_count": 28,
      "outputs": [
        {
          "output_type": "display_data",
          "data": {
            "image/png": "[encoded data removed]",
            "text/plain": [
              "<Figure size 432x288 with 2 Axes>"
            ]
          },
          "metadata": {
            "needs_background": "light"
          }
        }
      ]
    }
  ]
}